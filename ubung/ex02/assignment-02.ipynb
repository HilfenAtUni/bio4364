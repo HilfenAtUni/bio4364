{
 "cells": [
  {
   "cell_type": "markdown",
   "metadata": {},
   "source": [
    "Name | Matriknr. | Studiengang\n",
    "---|---|---\n",
    "zhang, guangde | 4300165 | Msc. Informatik\n"
   ]
  },
  {
   "cell_type": "markdown",
   "metadata": {},
   "source": [
    "# Technical: First website with JS (5 points)\n",
    "\n",
    "as the source code $ex02.html$, $ex02.css$ and $calc.js$."
   ]
  },
  {
   "cell_type": "markdown",
   "metadata": {},
   "source": [
    "- html code\n",
    "\n",
    "```html\n",
    "<html>\n",
    "<head>\n",
    "\t<meta charset=\"utf-8\">\n",
    "\t<link rel=\"stylesheet\" type=\"text/css\" href=\"ex02.css\">\n",
    "    <title>exercise 02</title>\n",
    "<script src=\"calc.js\"></script>\n",
    "</head>\n",
    "<body>\n",
    "    <table width=\"40%\" align=\"center\" class=\"btn_tab\" >\n",
    "    \t<tr>\n",
    "    \t\t<td><input type=\"button\" value=\"n1_10\" onclick=\"zap_hep(1, 10)\"></td>\n",
    "    \t\t<td><input type=\"button\" value=\"n10_20\" onclick=\"zap_hep(10, 20)\"></td>\n",
    "    \t\t<td><input type=\"button\" value=\"n20_30\" onclick=\"zap_hep(20, 30)\"></td>\n",
    "    \t\t<td><input type=\"button\" value=\"clean\" onclick=\"cls()\"></td>\n",
    "    \t</tr>\n",
    "    </table>\n",
    "    <div id=\"output\" class=\"screen\"></div>\n",
    "</body>\n",
    "</html>\n",
    "```\n",
    "\n",
    "- css code\n",
    "\n",
    "```css\n",
    ".screen {\n",
    "\tbackground-color: #bcbcbc;\n",
    "\twidth: 40%;\n",
    "\tmargin-left: 30%;\n",
    "\ttext-align: left;\n",
    "}\n",
    "\n",
    ".btn_tab {\n",
    "\tmargin-top: 40;\n",
    "}\n",
    "```\n",
    "\n",
    "- javascript code\n",
    "\n",
    "```javascript\n",
    "var result = '';\n",
    "\n",
    "var zap_hep = function(start_num, end_num) {\n",
    "\n",
    "\tvar dom = document.getElementById('output');\n",
    "\n",
    "\tfor (var i = start_num; i < end_num; i++) {\n",
    "\t\tconsole.log(\"i: \" + i);\n",
    "\t\tvar idx = i.toString().indexOf('3');\n",
    "\t\tvar tmp = '';\n",
    "\t\tif (0 == (i%3)) {\n",
    "\t\t\ttmp = 'ZAP';\n",
    "\t\t}\n",
    "\t\tif (-1 != idx) {\n",
    "\t\t\ttmp += ' HEP';\n",
    "\t\t}\n",
    "\t\tif ('' == tmp) {\n",
    "\t\t\ttmp = i;\n",
    "\t\t}\n",
    "\t\ttmp += '<br/>';\n",
    "\t\tresult += tmp;\n",
    "\t}\n",
    "\tconsole.log(result);\n",
    "\tdom.innerHTML = result;\n",
    "}\n",
    "\n",
    "var cls = function() {\n",
    "\tvar dom = document.getElementById('output');\n",
    "\tresult = '';\n",
    "\tdom.innerHTML = '';\n",
    "}\n",
    "```"
   ]
  },
  {
   "cell_type": "markdown",
   "metadata": {},
   "source": [
    "# Theoretical: Read and discuss (5 points)\n",
    "\n"
   ]
  },
  {
   "cell_type": "markdown",
   "metadata": {},
   "source": [
    "In this paper have four different scales.\n",
    "\n",
    "- ***Nominal scale***\n",
    "\n",
    "This is the most unrestricted assignment of numerals. It can be used as labels. It's also acceptable, when used words or letters. But there are two types of nominal assignments are easily to distinguisched. It gives us also a example: the number of a football player.\n",
    "\n",
    "- ***Ordinal scale***\n",
    "\n",
    "The ordinal scale is come from the operation of ordering a list, etc. A classic example of an ordinal scal is the scale of hardness of minerals. Because there are many level of the hardness of minerals. The level of quality goods can also use this type.\n",
    "\n",
    "- ***Interval scale***\n",
    "\n",
    "We have used thermometer for a long time. So this type is also not stronge for us. It comes from a form that is \"quantitative\" in the ordinary sense of the word. Almost all the useual statistical measures are need to use this type. It has not meaning, that to compute, if the data of this type is greater or smaller than other.\n",
    "\n",
    "- ***Ratio scale***\n",
    "\n",
    "This is commonly encountered in physics. There are four operations: equality, rank-order, equality of intervals, and equality of ratios.\n",
    "\n",
    "In our lecture have been introduced also many different Data types. For example: $1 + 2 = 3$ is ***Quantitative***, which is also belongs to Nominal scale, which is the first type of the paper.\n",
    "\n",
    "But we have many situations, that a couple of data must be classfied. The name of this type is ***Categorical***. But this is also divided to two different types: ordinal and quantitative. ordinal is belongs to ordinal scale and quantitative to ratio scale.\n",
    "\n"
   ]
  }
 ],
 "metadata": {
  "kernelspec": {
   "display_name": "Python 3",
   "language": "python",
   "name": "python3"
  },
  "language_info": {
   "codemirror_mode": {
    "name": "ipython",
    "version": 3
   },
   "file_extension": ".py",
   "mimetype": "text/x-python",
   "name": "python",
   "nbconvert_exporter": "python",
   "pygments_lexer": "ipython3",
   "version": "3.7.0b3"
  }
 },
 "nbformat": 4,
 "nbformat_minor": 2
}
